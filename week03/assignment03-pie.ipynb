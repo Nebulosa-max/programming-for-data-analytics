{
 "cells": [
  {
   "cell_type": "markdown",
   "id": "62603315",
   "metadata": {},
   "source": [
    "\n"
   ]
  }
 ],
 "metadata": {
  "language_info": {
   "name": "python"
  }
 },
 "nbformat": 4,
 "nbformat_minor": 5
}
