{
 "cells": [
  {
   "cell_type": "markdown",
   "id": "0f264499",
   "metadata": {},
   "source": [
    "# Assignment 05 - Population Analysis (Ireland)"
   ]
  },
  {
   "cell_type": "code",
   "execution_count": 2,
   "id": "b0d0fa26",
   "metadata": {},
   "outputs": [
    {
     "name": "stdout",
     "output_type": "stream",
     "text": [
      "Unique values in Sex column:\n",
      "[]\n"
     ]
    },
    {
     "ename": "KeyError",
     "evalue": "'Female_Pop'",
     "output_type": "error",
     "traceback": [
      "\u001b[0;31m---------------------------------------------------------------------------\u001b[0m",
      "\u001b[0;31mKeyError\u001b[0m                                  Traceback (most recent call last)",
      "File \u001b[0;32m/opt/anaconda3/lib/python3.13/site-packages/pandas/core/indexes/base.py:3805\u001b[0m, in \u001b[0;36mIndex.get_loc\u001b[0;34m(self, key)\u001b[0m\n\u001b[1;32m   3804\u001b[0m \u001b[38;5;28;01mtry\u001b[39;00m:\n\u001b[0;32m-> 3805\u001b[0m     \u001b[38;5;28;01mreturn\u001b[39;00m \u001b[38;5;28mself\u001b[39m\u001b[38;5;241m.\u001b[39m_engine\u001b[38;5;241m.\u001b[39mget_loc(casted_key)\n\u001b[1;32m   3806\u001b[0m \u001b[38;5;28;01mexcept\u001b[39;00m \u001b[38;5;167;01mKeyError\u001b[39;00m \u001b[38;5;28;01mas\u001b[39;00m err:\n",
      "File \u001b[0;32mindex.pyx:167\u001b[0m, in \u001b[0;36mpandas._libs.index.IndexEngine.get_loc\u001b[0;34m()\u001b[0m\n",
      "File \u001b[0;32mindex.pyx:196\u001b[0m, in \u001b[0;36mpandas._libs.index.IndexEngine.get_loc\u001b[0;34m()\u001b[0m\n",
      "File \u001b[0;32mpandas/_libs/hashtable_class_helper.pxi:7081\u001b[0m, in \u001b[0;36mpandas._libs.hashtable.PyObjectHashTable.get_item\u001b[0;34m()\u001b[0m\n",
      "File \u001b[0;32mpandas/_libs/hashtable_class_helper.pxi:7089\u001b[0m, in \u001b[0;36mpandas._libs.hashtable.PyObjectHashTable.get_item\u001b[0;34m()\u001b[0m\n",
      "\u001b[0;31mKeyError\u001b[0m: 'Female_Pop'",
      "\nThe above exception was the direct cause of the following exception:\n",
      "\u001b[0;31mKeyError\u001b[0m                                  Traceback (most recent call last)",
      "Cell \u001b[0;32mIn[2], line 57\u001b[0m\n\u001b[1;32m     50\u001b[0m age_pivot \u001b[38;5;241m=\u001b[39m (\n\u001b[1;32m     51\u001b[0m     age_sex\u001b[38;5;241m.\u001b[39mpivot(index\u001b[38;5;241m=\u001b[39m\u001b[38;5;124m\"\u001b[39m\u001b[38;5;124mAge\u001b[39m\u001b[38;5;124m\"\u001b[39m, columns\u001b[38;5;241m=\u001b[39m\u001b[38;5;124m\"\u001b[39m\u001b[38;5;124mSex\u001b[39m\u001b[38;5;124m\"\u001b[39m, values\u001b[38;5;241m=\u001b[39m\u001b[38;5;124m\"\u001b[39m\u001b[38;5;124mPopulation\u001b[39m\u001b[38;5;124m\"\u001b[39m)\n\u001b[1;32m     52\u001b[0m     \u001b[38;5;241m.\u001b[39mrename(columns\u001b[38;5;241m=\u001b[39m{\u001b[38;5;124m\"\u001b[39m\u001b[38;5;124mfemale\u001b[39m\u001b[38;5;124m\"\u001b[39m: \u001b[38;5;124m\"\u001b[39m\u001b[38;5;124mFemale_Pop\u001b[39m\u001b[38;5;124m\"\u001b[39m, \u001b[38;5;124m\"\u001b[39m\u001b[38;5;124mmale\u001b[39m\u001b[38;5;124m\"\u001b[39m: \u001b[38;5;124m\"\u001b[39m\u001b[38;5;124mMale_Pop\u001b[39m\u001b[38;5;124m\"\u001b[39m})\n\u001b[1;32m     53\u001b[0m     \u001b[38;5;241m.\u001b[39mfillna(\u001b[38;5;241m0\u001b[39m)\n\u001b[1;32m     54\u001b[0m )\n\u001b[1;32m     56\u001b[0m \u001b[38;5;66;03m# Calculate Female - Male difference\u001b[39;00m\n\u001b[0;32m---> 57\u001b[0m age_pivot[\u001b[38;5;124m\"\u001b[39m\u001b[38;5;124mFemale_minus_Male\u001b[39m\u001b[38;5;124m\"\u001b[39m] \u001b[38;5;241m=\u001b[39m age_pivot[\u001b[38;5;124m\"\u001b[39m\u001b[38;5;124mFemale_Pop\u001b[39m\u001b[38;5;124m\"\u001b[39m] \u001b[38;5;241m-\u001b[39m age_pivot[\u001b[38;5;124m\"\u001b[39m\u001b[38;5;124mMale_Pop\u001b[39m\u001b[38;5;124m\"\u001b[39m]\n\u001b[1;32m     59\u001b[0m \u001b[38;5;66;03m# Display sample\u001b[39;00m\n\u001b[1;32m     60\u001b[0m display(age_pivot\u001b[38;5;241m.\u001b[39mhead(\u001b[38;5;241m10\u001b[39m))\n",
      "File \u001b[0;32m/opt/anaconda3/lib/python3.13/site-packages/pandas/core/frame.py:4102\u001b[0m, in \u001b[0;36mDataFrame.__getitem__\u001b[0;34m(self, key)\u001b[0m\n\u001b[1;32m   4100\u001b[0m \u001b[38;5;28;01mif\u001b[39;00m \u001b[38;5;28mself\u001b[39m\u001b[38;5;241m.\u001b[39mcolumns\u001b[38;5;241m.\u001b[39mnlevels \u001b[38;5;241m>\u001b[39m \u001b[38;5;241m1\u001b[39m:\n\u001b[1;32m   4101\u001b[0m     \u001b[38;5;28;01mreturn\u001b[39;00m \u001b[38;5;28mself\u001b[39m\u001b[38;5;241m.\u001b[39m_getitem_multilevel(key)\n\u001b[0;32m-> 4102\u001b[0m indexer \u001b[38;5;241m=\u001b[39m \u001b[38;5;28mself\u001b[39m\u001b[38;5;241m.\u001b[39mcolumns\u001b[38;5;241m.\u001b[39mget_loc(key)\n\u001b[1;32m   4103\u001b[0m \u001b[38;5;28;01mif\u001b[39;00m is_integer(indexer):\n\u001b[1;32m   4104\u001b[0m     indexer \u001b[38;5;241m=\u001b[39m [indexer]\n",
      "File \u001b[0;32m/opt/anaconda3/lib/python3.13/site-packages/pandas/core/indexes/base.py:3812\u001b[0m, in \u001b[0;36mIndex.get_loc\u001b[0;34m(self, key)\u001b[0m\n\u001b[1;32m   3807\u001b[0m     \u001b[38;5;28;01mif\u001b[39;00m \u001b[38;5;28misinstance\u001b[39m(casted_key, \u001b[38;5;28mslice\u001b[39m) \u001b[38;5;129;01mor\u001b[39;00m (\n\u001b[1;32m   3808\u001b[0m         \u001b[38;5;28misinstance\u001b[39m(casted_key, abc\u001b[38;5;241m.\u001b[39mIterable)\n\u001b[1;32m   3809\u001b[0m         \u001b[38;5;129;01mand\u001b[39;00m \u001b[38;5;28many\u001b[39m(\u001b[38;5;28misinstance\u001b[39m(x, \u001b[38;5;28mslice\u001b[39m) \u001b[38;5;28;01mfor\u001b[39;00m x \u001b[38;5;129;01min\u001b[39;00m casted_key)\n\u001b[1;32m   3810\u001b[0m     ):\n\u001b[1;32m   3811\u001b[0m         \u001b[38;5;28;01mraise\u001b[39;00m InvalidIndexError(key)\n\u001b[0;32m-> 3812\u001b[0m     \u001b[38;5;28;01mraise\u001b[39;00m \u001b[38;5;167;01mKeyError\u001b[39;00m(key) \u001b[38;5;28;01mfrom\u001b[39;00m\u001b[38;5;250m \u001b[39m\u001b[38;5;21;01merr\u001b[39;00m\n\u001b[1;32m   3813\u001b[0m \u001b[38;5;28;01mexcept\u001b[39;00m \u001b[38;5;167;01mTypeError\u001b[39;00m:\n\u001b[1;32m   3814\u001b[0m     \u001b[38;5;66;03m# If we have a listlike key, _check_indexing_error will raise\u001b[39;00m\n\u001b[1;32m   3815\u001b[0m     \u001b[38;5;66;03m#  InvalidIndexError. Otherwise we fall through and re-raise\u001b[39;00m\n\u001b[1;32m   3816\u001b[0m     \u001b[38;5;66;03m#  the TypeError.\u001b[39;00m\n\u001b[1;32m   3817\u001b[0m     \u001b[38;5;28mself\u001b[39m\u001b[38;5;241m.\u001b[39m_check_indexing_error(key)\n",
      "\u001b[0;31mKeyError\u001b[0m: 'Female_Pop'"
     ]
    }
   ],
   "source": [
    "# --- Assignment 05 Population Analysis (Fixed) ---\n",
    "import pandas as pd\n",
    "import matplotlib.pyplot as plt\n",
    "\n",
    "# Load the dataset directly from CSO\n",
    "url = \"https://ws.cso.ie/public/api.restful/PxStat.Data.Cube_API.ReadDataset/FY006A/CSV/1.0/en\"\n",
    "df = pd.read_csv(url)\n",
    "\n",
    "# Rename key columns for clarity\n",
    "df = df.rename(columns={\n",
    "    \"Single Year of Age\": \"Age\",\n",
    "    \"TLIST(A1)\": \"Region\",\n",
    "    \"VALUE\": \"Population\"\n",
    "})\n",
    "\n",
    "# Keep only the important columns\n",
    "df = df[[\"Age\", \"Sex\", \"Region\", \"Population\"]].copy()\n",
    "\n",
    "# Clean the Age column\n",
    "df[\"Age\"] = pd.to_numeric(df[\"Age\"], errors=\"coerce\")\n",
    "df = df.dropna(subset=[\"Age\"]).copy()\n",
    "df[\"Age\"] = df[\"Age\"].astype(int)\n",
    "\n",
    "# Identify how Sex is labelled\n",
    "print(\"Unique values in Sex column:\")\n",
    "print(df[\"Sex\"].unique())\n",
    "\n",
    "# Clean Sex column (handles '1 Male', '2 Female', etc.)\n",
    "df[\"Sex\"] = df[\"Sex\"].astype(str).str.strip().str.lower()\n",
    "df[\"Sex\"] = df[\"Sex\"].replace({\n",
    "    \"1 male\": \"male\",\n",
    "    \"2 female\": \"female\",\n",
    "    \"male\": \"male\",\n",
    "    \"female\": \"female\"\n",
    "})\n",
    "\n",
    "# Drop 'both sexes' if it exists\n",
    "df = df[df[\"Sex\"].isin([\"male\", \"female\"])].copy()\n",
    "\n",
    "# Make Population numeric\n",
    "df[\"Population\"] = pd.to_numeric(df[\"Population\"], errors=\"coerce\")\n",
    "df = df.dropna(subset=[\"Population\"])\n",
    "df[\"Population\"] = df[\"Population\"].astype(int)\n",
    "\n",
    "# --- PART 1 ---\n",
    "# Calculate population by age and sex\n",
    "age_sex = df.groupby([\"Age\", \"Sex\"])[\"Population\"].sum().reset_index()\n",
    "\n",
    "# Pivot so we have Male and Female columns\n",
    "age_pivot = (\n",
    "    age_sex.pivot(index=\"Age\", columns=\"Sex\", values=\"Population\")\n",
    "    .rename(columns={\"female\": \"Female_Pop\", \"male\": \"Male_Pop\"})\n",
    "    .fillna(0)\n",
    ")\n",
    "\n",
    "# Calculate Female - Male difference\n",
    "age_pivot[\"Female_minus_Male\"] = age_pivot[\"Female_Pop\"] - age_pivot[\"Male_Pop\"]\n",
    "\n",
    "# Display sample\n",
    "display(age_pivot.head(10))\n",
    "\n",
    "# Plot the difference\n",
    "plt.figure(figsize=(8,5))\n",
    "plt.plot(age_pivot.index, age_pivot[\"Female_minus_Male\"])\n",
    "plt.axhline(0, color=\"gray\", linewidth=1)\n",
    "plt.title(\"Female - Male population by age (Ireland)\")\n",
    "plt.xlabel(\"Age\")\n",
    "plt.ylabel(\"Female minus Male\")\n",
    "plt.show()"
   ]
  },
  {
   "cell_type": "code",
   "execution_count": 3,
   "id": "cc44cbba",
   "metadata": {},
   "outputs": [
    {
     "name": "stdout",
     "output_type": "stream",
     "text": [
      "Columns: ['STATISTIC', 'Statistic Label', 'TLIST(A1)', 'CensusYear', 'C02199V02655', 'Sex', 'C02076V03371', 'Single Year of Age', 'C03789V04537', 'Administrative Counties', 'UNIT', 'VALUE']\n",
      "\n",
      "Column: STATISTIC\n",
      "Sample values: ['FY006AC01']\n",
      "\n",
      "Column: Statistic Label\n",
      "Sample values: ['Population']\n",
      "\n",
      "Column: TLIST(A1)\n",
      "Sample values: ['2022']\n",
      "\n",
      "Column: CensusYear\n",
      "Sample values: ['2022']\n",
      "\n",
      "Column: C02199V02655\n",
      "Sample values: ['-' '1' '2']\n",
      "\n",
      "Column: Sex\n",
      "Sample values: ['Both sexes' 'Male' 'Female']\n",
      "\n",
      "Column: C02076V03371\n",
      "Sample values: ['-' '200' '001' '002' '003']\n",
      "\n",
      "Column: Single Year of Age\n",
      "Sample values: ['All ages' 'Under 1 year' '1 year' '2 years' '3 years']\n",
      "\n",
      "Column: C03789V04537\n",
      "Sample values: ['IE0' '2ae19629-1492-13a3-e055-000000000001'\n",
      " '2ae19629-1433-13a3-e055-000000000001'\n",
      " '2ae19629-149f-13a3-e055-000000000001'\n",
      " '2ae19629-14a0-13a3-e055-000000000001']\n",
      "\n",
      "Column: Administrative Counties\n",
      "Sample values: ['Ireland' 'Carlow County Council' 'Dublin City Council'\n",
      " 'Dún Laoghaire Rathdown County Council' 'Fingal County Council']\n",
      "\n",
      "Column: UNIT\n",
      "Sample values: ['Number']\n",
      "\n",
      "Column: VALUE\n",
      "Sample values: ['5149139' '61968' '592713' '233860' '330506']\n"
     ]
    }
   ],
   "source": [
    "# Let's see what the \"Sex\" column really contains\n",
    "import pandas as pd\n",
    "\n",
    "url = \"https://ws.cso.ie/public/api.restful/PxStat.Data.Cube_API.ReadDataset/FY006A/CSV/1.0/en\"\n",
    "df = pd.read_csv(url)\n",
    "\n",
    "print(\"Columns:\", df.columns.tolist())\n",
    "\n",
    "# If there is no 'Sex' column, we'll find which one contains sex labels\n",
    "for col in df.columns:\n",
    "    sample_values = df[col].astype(str).unique()[:5]\n",
    "    print(f\"\\nColumn: {col}\\nSample values: {sample_values}\")"
   ]
  },
  {
   "cell_type": "code",
   "execution_count": 7,
   "id": "50da73d3",
   "metadata": {},
   "outputs": [
    {
     "data": {
      "image/png": "[encoded data removed]",
      "text/plain": [
       "<Figure size 1000x600 with 1 Axes>"
      ]
     },
     "metadata": {},
     "output_type": "display_data"
    },
    {
     "name": "stderr",
     "output_type": "stream",
     "text": [
      "/var/folders/vf/d31hw_f11mj9k804v5_7zl3h0000gn/T/ipykernel_78184/3499761718.py:13: DeprecationWarning: DataFrameGroupBy.apply operated on the grouping columns. This behavior is deprecated, and in a future version of pandas the grouping columns will be excluded from the operation. Either pass `include_groups=False` to exclude the groupings or explicitly select the grouping columns after groupby to silence this warning.\n",
      "  df.groupby(\"Sex\").apply(lambda x: (x[\"Age\"] * x[\"Population\"]).sum() / x[\"Population\"].sum())\n"
     ]
    },
    {
     "data": {
      "text/html": [
       "<div>\n",
       "<style scoped>\n",
       "    .dataframe tbody tr th:only-of-type {\n",
       "        vertical-align: middle;\n",
       "    }\n",
       "\n",
       "    .dataframe tbody tr th {\n",
       "        vertical-align: top;\n",
       "    }\n",
       "\n",
       "    .dataframe thead th {\n",
       "        text-align: right;\n",
       "    }\n",
       "</style>\n",
       "<table border=\"1\" class=\"dataframe\">\n",
       "  <thead>\n",
       "    <tr style=\"text-align: right;\">\n",
       "      <th></th>\n",
       "      <th>Age</th>\n",
       "      <th>Sex</th>\n",
       "      <th>Region</th>\n",
       "      <th>Population</th>\n",
       "    </tr>\n",
       "    <tr>\n",
       "      <th>Sex</th>\n",
       "      <th></th>\n",
       "      <th></th>\n",
       "      <th></th>\n",
       "      <th></th>\n",
       "    </tr>\n",
       "  </thead>\n",
       "  <tbody>\n",
       "  </tbody>\n",
       "</table>\n",
       "</div>"
      ],
      "text/plain": [
       "Empty DataFrame\n",
       "Columns: [Age, Sex, Region, Population]\n",
       "Index: []"
      ]
     },
     "metadata": {},
     "output_type": "display_data"
    }
   ],
   "source": [
    "# Fix plot scaling (make sure y-axis reflects population counts)\n",
    "plt.figure(figsize=(10,6))\n",
    "plt.plot(age_pivot.index, age_pivot[\"Female_minus_Male\"], color=\"purple\")\n",
    "plt.axhline(0, color=\"black\", linewidth=1)\n",
    "plt.title(\"Female - Male Population by Age in Ireland (2022)\", fontsize=13)\n",
    "plt.xlabel(\"Age\", fontsize=11)\n",
    "plt.ylabel(\"Female minus Male (Population)\", fontsize=11)\n",
    "plt.grid(True)\n",
    "plt.show()\n",
    "\n",
    "# Weighted mean age by sex (the other part of Part 1)\n",
    "weighted_mean = (\n",
    "    df.groupby(\"Sex\").apply(lambda x: (x[\"Age\"] * x[\"Population\"]).sum() / x[\"Population\"].sum())\n",
    ")\n",
    "display(weighted_mean)"
   ]
  },
  {
   "cell_type": "code",
   "execution_count": 8,
   "id": "61fe07a3",
   "metadata": {},
   "outputs": [
    {
     "name": "stdout",
     "output_type": "stream",
     "text": [
      "Age group: 30-40\n",
      "Female total: 0\n",
      "Male total:   0\n",
      "Difference (Female - Male): 0\n"
     ]
    }
   ],
   "source": [
    "# Part 2: pick an age and calculate population difference within ±5 years\n",
    "age_of_interest = 35\n",
    "low_age, high_age = age_of_interest - 5, age_of_interest + 5\n",
    "\n",
    "subset = df[(df[\"Age\"] >= low_age) & (df[\"Age\"] <= high_age)]\n",
    "subset_totals = subset.groupby(\"Sex\")[\"Population\"].sum()\n",
    "\n",
    "female_total = subset_totals.get(\"Female\", 0)\n",
    "male_total = subset_totals.get(\"Male\", 0)\n",
    "difference = female_total - male_total\n",
    "\n",
    "print(f\"Age group: {low_age}-{high_age}\")\n",
    "print(f\"Female total: {female_total}\")\n",
    "print(f\"Male total:   {male_total}\")\n",
    "print(f\"Difference (Female - Male): {difference}\")"
   ]
  },
  {
   "cell_type": "code",
   "execution_count": 10,
   "id": "7eecbfeb",
   "metadata": {},
   "outputs": [
    {
     "name": "stdout",
     "output_type": "stream",
     "text": [
      "⚠️ No data found for the selected age range. Try a different age (e.g. 35).\n"
     ]
    }
   ],
   "source": [
    "# --- PART 3: Region with biggest population difference between sexes in that age group ---\n",
    "if subset.empty:\n",
    "    print(\"⚠️ No data found for the selected age range. Try a different age (e.g. 35).\")\n",
    "else:\n",
    "    region_stats = (\n",
    "        subset.groupby([\"Region\", \"Sex\"])[\"Population\"].sum().unstack(\"Sex\").fillna(0)\n",
    "    )\n",
    "\n",
    "    # Detect female/male column names safely\n",
    "    col_names = list(region_stats.columns)\n",
    "    female_col = next((c for c in col_names if \"female\" in str(c).lower()), None)\n",
    "    male_col = next((c for c in col_names if \"male\" in str(c).lower()), None)\n",
    "\n",
    "    print(f\"Detected columns → Female: {female_col}, Male: {male_col}\")\n",
    "\n",
    "    if female_col is None or male_col is None:\n",
    "        print(\"⚠️ Could not find both Female and Male columns in region_stats.\")\n",
    "        print(\"Columns are:\", col_names)\n",
    "    else:\n",
    "        region_stats[\"Difference\"] = (region_stats[female_col] - region_stats[male_col]).abs()\n",
    "        largest_diff = region_stats.sort_values(\"Difference\", ascending=False).head(1)\n",
    "        print(\"\\n🏆 Region with biggest population difference in that age group:\")\n",
    "        display(largest_diff)"
   ]
  },
  {
   "cell_type": "code",
   "execution_count": 11,
   "id": "9678ea06",
   "metadata": {},
   "outputs": [
    {
     "name": "stdout",
     "output_type": "stream",
     "text": [
      "Sample values from Age column:\n",
      "[]\n",
      "\n",
      "Data types:\n",
      "Age            int64\n",
      "Sex           object\n",
      "Region         int64\n",
      "Population     int64\n",
      "dtype: object\n"
     ]
    }
   ],
   "source": [
    "print(\"Sample values from Age column:\")\n",
    "print(df[\"Age\"].unique()[:20])\n",
    "print(\"\\nData types:\")\n",
    "print(df.dtypes)"
   ]
  },
  {
   "cell_type": "code",
   "execution_count": null,
   "id": "927937f5",
   "metadata": {},
   "outputs": [],
   "source": []
  }
 ],
 "metadata": {
  "kernelspec": {
   "display_name": "base",
   "language": "python",
   "name": "python3"
  },
  "language_info": {
   "codemirror_mode": {
    "name": "ipython",
    "version": 3
   },
   "file_extension": ".py",
   "mimetype": "text/x-python",
   "name": "python",
   "nbconvert_exporter": "python",
   "pygments_lexer": "ipython3",
   "version": "3.13.5"
  }
 },
 "nbformat": 4,
 "nbformat_minor": 5
}
